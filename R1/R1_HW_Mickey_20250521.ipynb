{
  "cells": [
    {
      "cell_type": "markdown",
      "source": [
        "**Import Packages**"
      ],
      "metadata": {
        "id": "T4P9ngcJq6e6"
      }
    },
    {
      "cell_type": "code",
      "source": [
        "import numpy as np"
      ],
      "metadata": {
        "id": "0HBfjlBeA1rj"
      },
      "execution_count": 2,
      "outputs": []
    },
    {
      "cell_type": "code",
      "source": [
        "from sentence_transformers import SentenceTransformer\n",
        "from sklearn.metrics.pairwise import cosine_similarity\n",
        "from transformers import AutoTokenizer, AutoModelForCausalLM\n",
        "import torch"
      ],
      "metadata": {
        "id": "eony8A8OSjPb"
      },
      "execution_count": 3,
      "outputs": []
    },
    {
      "cell_type": "code",
      "source": [
        "# LangGraph 架構\n",
        "from langgraph.graph import StateGraph, END\n",
        "from typing import TypedDict"
      ],
      "metadata": {
        "id": "rNd43YezhcRL"
      },
      "execution_count": 4,
      "outputs": []
    },
    {
      "cell_type": "markdown",
      "source": [
        "**Define Knowledge Base**"
      ],
      "metadata": {
        "id": "V-5T-88ctapz"
      }
    },
    {
      "cell_type": "code",
      "source": [
        "# 目前知識庫\n",
        "# docs_text = \"\"\"\n",
        "# 火影代數\t姓名\t師傅\t徒弟\n",
        "# 初代\t千手柱間\t無明確記載\t猿飛日斬、水戶門炎、轉寢小春\n",
        "# 二代\t千手扉間\t千手柱間（兄長）\t猿飛日斬、志村團藏、宇智波鏡等\n",
        "# 三代\t猿飛日斬\t千手柱間、千手扉間\t自來也、大蛇丸、千手綱手（傳說三忍）\n",
        "# 四代\t波風湊\t自來也\t旗木卡卡西、宇智波帶土、野原琳\n",
        "# 五代\t千手綱手\t猿飛日斬\t春野櫻、志乃等（主要為春野櫻）\n",
        "# 六代\t旗木卡卡西\t波風湊\t漩渦鳴人、宇智波佐助、春野櫻（第七班）\n",
        "# 七代\t漩渦鳴人\t自來也、旗木卡卡西\t木葉丸等（主要為木葉丸）\n",
        "# \"\"\""
      ],
      "metadata": {
        "id": "j_pvpH--d-qW"
      },
      "execution_count": 10,
      "outputs": []
    },
    {
      "cell_type": "code",
      "source": [
        "docs_text = '''\n",
        "    \"初代火影是千手柱間，沒有明確的師傅，他的徒弟是猿飛日斬、水戶門炎與轉寢小春。\",\n",
        "    \"二代火影是千手扉間，是千手柱間的弟弟，他的徒弟有猿飛日斬、志村團藏與宇智波鏡。\",\n",
        "    \"三代火影是猿飛日斬，師承千手柱間與千手扉間，徒弟是自來也、大蛇丸與千手綱手（傳說三忍）。\",\n",
        "    \"四代火影是波風湊，師傅是自來也，他的徒弟有旗木卡卡西、宇智波帶土與野原琳。\",\n",
        "    \"五代火影是千手綱手，師傅是猿飛日斬，她的徒弟主要是春野櫻，還有志乃。\",\n",
        "    \"六代火影是旗木卡卡西，師傅是波風湊，他的徒弟是漩渦鳴人、宇智波佐助與春野櫻（第七班）。\",\n",
        "    \"七代火影是漩渦鳴人，他的師傅是自來也與旗木卡卡西，他的徒弟是木葉丸。\"\n",
        "'''"
      ],
      "metadata": {
        "id": "-XR-M2BG-Zxv"
      },
      "execution_count": 13,
      "outputs": []
    },
    {
      "cell_type": "markdown",
      "source": [
        "**Load Models**"
      ],
      "metadata": {
        "id": "2HhaOsy6za7M"
      }
    },
    {
      "cell_type": "code",
      "source": [
        "embed_model = SentenceTransformer('shibing624/text2vec-base-chinese')"
      ],
      "metadata": {
        "colab": {
          "base_uri": "https://localhost:8080/"
        },
        "id": "vfYuVxPjSvsV",
        "outputId": "93fc8a4b-3ccd-4477-80fe-e27b1d5f705c"
      },
      "execution_count": 6,
      "outputs": [
        {
          "output_type": "stream",
          "name": "stderr",
          "text": [
            "/usr/local/lib/python3.11/dist-packages/huggingface_hub/utils/_auth.py:94: UserWarning: \n",
            "The secret `HF_TOKEN` does not exist in your Colab secrets.\n",
            "To authenticate with the Hugging Face Hub, create a token in your settings tab (https://huggingface.co/settings/tokens), set it as secret in your Google Colab and restart your session.\n",
            "You will be able to reuse this secret in all of your notebooks.\n",
            "Please note that authentication is recommended but still optional to access public models or datasets.\n",
            "  warnings.warn(\n"
          ]
        }
      ]
    },
    {
      "cell_type": "code",
      "source": [
        "tokenizer = AutoTokenizer.from_pretrained(\"Qwen/Qwen1.5-0.5B-Chat\", trust_remote_code=True)\n",
        "chat_model = AutoModelForCausalLM.from_pretrained(\"Qwen/Qwen1.5-0.5B-Chat\", trust_remote_code=True)"
      ],
      "metadata": {
        "id": "lzr1nd6ZWNT1"
      },
      "execution_count": 21,
      "outputs": []
    },
    {
      "cell_type": "code",
      "source": [
        "doc_embeddings = embed_model.encode(docs_text)"
      ],
      "metadata": {
        "id": "Fi3YJ_B9Fd2m"
      },
      "execution_count": 17,
      "outputs": []
    },
    {
      "cell_type": "markdown",
      "source": [
        "**Excute Chatbot**"
      ],
      "metadata": {
        "id": "0TZpiOc2z6m6"
      }
    },
    {
      "cell_type": "code",
      "source": [
        "# ✅ 狀態定義\n",
        "class AppState(TypedDict):\n",
        "    user_query: str\n",
        "    rag_trigger: bool\n",
        "    docs: str\n",
        "    answer: str\n",
        "    mode: str  # 新增模式字段\n",
        "\n",
        "# ✅ 節點1：Embedding + 相似度分流\n",
        "def embed_node(state: AppState) -> AppState:\n",
        "    query = state[\"user_query\"]\n",
        "\n",
        "    query_vec = np.atleast_2d(embed_model.encode(query))  # Query encoding\n",
        "    doc_embeddings_2d = np.atleast_2d(np.asarray(doc_embeddings))  # Doc embeddings\n",
        "\n",
        "    similarities = cosine_similarity(query_vec, doc_embeddings_2d)[0]\n",
        "\n",
        "    # 設定相似度閾值為n若任何文檔的相似度大於閾值，啟動 RAG 模式\n",
        "    rag_trigger = any(similarity > 0.6 for similarity in similarities)\n",
        "\n",
        "    # 返回相似度大於n的文檔\n",
        "    matched = \"\\n\".join([docs_text[i] for i, similarity in enumerate(similarities) if similarity > 0.6])\n",
        "\n",
        "    return {**state, \"rag_trigger\": rag_trigger, \"docs\": matched, \"mode\": \"knowledge_base\" if rag_trigger else \"chat\"}\n",
        "\n",
        "# ✅ 節點2：決策 router（根據查詢決定是否使用知識庫檢索或普通聊天）\n",
        "def decision_node(state: AppState) -> AppState:\n",
        "    # 根據 rag_trigger 決定下一步處理節點\n",
        "    if state[\"rag_trigger\"]:\n",
        "        return {**state, \"mode\": \"knowledge_base\"}\n",
        "    else:\n",
        "        return {**state, \"mode\": \"chat\"}\n",
        "\n",
        "# ✅ 節點3：RAG 回答模式\n",
        "def rag_node(state: AppState) -> AppState:\n",
        "    query = state[\"user_query\"]\n",
        "    matched_knowledge = state[\"docs\"]\n",
        "    print(\"🔍 匹配知識：\\n\", matched_knowledge)\n",
        "\n",
        "    # 🧠 改良後的提示語\n",
        "    rag_prompt = f\"\"\"你是一位火影忍者的知識專家。以下是來自知識庫的資料，內容包含火影角色的師徒關係。\n",
        "請你**只根據資料回答問題**，**不要補充問題中未問及的其他資訊**。禁止編造或猜測。\n",
        "請明確斷誰是火影，以及該火影的師傅是誰，以及該夥影的徒弟有哪些人\n",
        "\n",
        "如果找不到答案，請回答「我不知道」。\n",
        "\n",
        "【資料】\n",
        "{matched_knowledge}\n",
        "\n",
        "【問題】\n",
        "{query}\n",
        "\n",
        "請簡潔回答，**只針對問題內容做出回應，不多說。**\"\"\"\n",
        "\n",
        "    messages = [\n",
        "        {\"role\": \"system\", \"content\": \"你是一位火影知識助手，僅能根據提供的資料回答問題，禁止捏造。\"},\n",
        "        {\"role\": \"user\", \"content\": rag_prompt}\n",
        "    ]\n",
        "\n",
        "    prompt_text = tokenizer.apply_chat_template(messages, tokenize=False, add_generation_prompt=True)\n",
        "    model_inputs = tokenizer([prompt_text], return_tensors=\"pt\")\n",
        "\n",
        "    with torch.no_grad():\n",
        "        generated_ids = chat_model.generate(**model_inputs, max_new_tokens=256)\n",
        "\n",
        "    output = tokenizer.batch_decode(generated_ids[:, model_inputs.input_ids.shape[1]:], skip_special_tokens=True)[0]\n",
        "\n",
        "    return {**state, \"answer\": output.strip(), \"mode\": \"knowledge_base\", \"next_node\": \"END\"}\n",
        "\n",
        "\n",
        "# ✅ 節點4：一般聊天模式\n",
        "def chat_answer_node(state: AppState) -> AppState:\n",
        "    query = state[\"user_query\"]\n",
        "\n",
        "    messages = [\n",
        "        {\"role\": \"system\", \"content\": \"你是一位親切的助理\"},\n",
        "        {\"role\": \"user\", \"content\": query}\n",
        "    ]\n",
        "    prompt_text = tokenizer.apply_chat_template(messages, tokenize=False, add_generation_prompt=True)\n",
        "    inputs = tokenizer([prompt_text], return_tensors=\"pt\")\n",
        "\n",
        "    with torch.no_grad():\n",
        "        generated_ids = chat_model.generate(**inputs, max_new_tokens=256)\n",
        "    output = tokenizer.batch_decode(generated_ids[:, inputs.input_ids.shape[1]:], skip_special_tokens=True)[0]\n",
        "    return {**state, \"answer\": output, \"mode\": \"chat\", \"next_node\": \"END\"}\n",
        "\n",
        "# ✅ 節點5：路由節點（根據 decision_node 的結果決定調用哪個節點）\n",
        "def route_node(state: AppState) -> AppState:\n",
        "    if state[\"mode\"] == \"knowledge_base\":\n",
        "        return rag_node(state)  # 如果是知識庫檢索模式\n",
        "    else:\n",
        "        return chat_answer_node(state)  # 普通聊天模式\n",
        "\n",
        "# ✅ 建立 LangGraph\n",
        "workflow = StateGraph(AppState)\n",
        "workflow.add_node(\"embed\", embed_node)\n",
        "workflow.add_node(\"decision\", decision_node)\n",
        "workflow.add_node(\"route\", route_node)  # 新增路由節點\n",
        "workflow.add_node(\"__rag__\", rag_node)\n",
        "workflow.add_node(\"__chat__\", chat_answer_node)\n",
        "workflow.set_entry_point(\"embed\")\n",
        "workflow.add_edge(\"embed\", \"decision\")\n",
        "workflow.add_edge(\"decision\", \"route\")  # 由 decision 進行路由\n",
        "workflow.add_edge(\"route\", END)  # 路由結束\n",
        "app = workflow.compile()\n",
        "\n",
        "# ✅ 互動測試迴圈\n",
        "print(\"🔁 啟動互動模式，輸入 '結束' 結束對話\")\n",
        "while True:\n",
        "    query = input(\"🧑 您：\")\n",
        "    if query.strip() in [\"exit\", \"結束\", \"quit\"]:\n",
        "        print(\"👋 再見！\")\n",
        "        break\n",
        "    result = app.invoke({\"user_query\": query})\n",
        "    print(f\"🤖 機器人（模式: {result['mode']}）：{result['answer']}\")"
      ],
      "metadata": {
        "colab": {
          "base_uri": "https://localhost:8080/"
        },
        "id": "lrMM84xU1wqL",
        "outputId": "7f768e18-7056-42dc-df6b-23dbd7c7242a"
      },
      "execution_count": 50,
      "outputs": [
        {
          "output_type": "stream",
          "name": "stdout",
          "text": [
            "🔁 啟動互動模式，輸入 '結束' 結束對話\n",
            "🧑 您：第四代火影是誰\n",
            "🔍 匹配知識：\n",
            " 四代火影是波風湊，師傅是自來也，他的徒弟有旗木卡卡西、宇智波帶土與野原琳。\n",
            "🤖 機器人（模式: knowledge_base）：我知道，第四代火影是波風湊。\n",
            "🧑 您：第四代火影的徒弟有哪些人\n",
            "🔍 匹配知識：\n",
            " 初代火影是千手柱間，沒有明確的師傅，他的徒弟是猿飛日斬、水戶門炎與轉寢小春。\n",
            "四代火影是波風湊，師傅是自來也，他的徒弟有旗木卡卡西、宇智波帶土與野原琳。\n",
            "五代火影是千手綱手，師傅是猿飛日斬，她的徒弟主要是春野櫻，還有志乃。\n",
            "六代火影是旗木卡卡西，師傅是波風湊，他的徒弟是漩渦鳴人、宇智波佐助與春野櫻（第七班）。\n",
            "七代火影是漩渦鳴人，他的師傅是自來也與旗木卡卡西，他的徒弟是木葉丸。\n",
            "🤖 機器人（模式: knowledge_base）：旗木卡卡西、宇智波帶土與野原琳為第四代火影的徒弟。\n",
            "🧑 您：第七代火影是誰\n",
            "🔍 匹配知識：\n",
            " 六代火影是旗木卡卡西，師傅是波風湊，他的徒弟是漩渦鳴人、宇智波佐助與春野櫻（第七班）。\n",
            "七代火影是漩渦鳴人，他的師傅是自來也與旗木卡卡西，他的徒弟是木葉丸。\n",
            "🤖 機器人（模式: knowledge_base）：漩渦鳴人\n",
            "🧑 您：你好，你是什麼模型\n",
            "🤖 機器人（模式: chat）：我是一個聊天機台，我叫通義千問。我可以回答問題、提供信息、聊天等各種任務，請隨時问我任何問題！\n",
            "🧑 您：結束\n",
            "👋 再見！\n"
          ]
        }
      ]
    }
  ],
  "metadata": {
    "colab": {
      "toc_visible": true,
      "provenance": []
    },
    "kernelspec": {
      "display_name": "Python 3",
      "name": "python3"
    }
  },
  "nbformat": 4,
  "nbformat_minor": 0
}