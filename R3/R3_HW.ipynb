{
  "nbformat": 4,
  "nbformat_minor": 0,
  "metadata": {
    "colab": {
      "provenance": []
    },
    "kernelspec": {
      "name": "python3",
      "display_name": "Python 3"
    },
    "language_info": {
      "name": "python"
    }
  },
  "cells": [
    {
      "cell_type": "code",
      "source": [
        "!pip install -q langchain langchain-openai openai"
      ],
      "metadata": {
        "colab": {
          "base_uri": "https://localhost:8080/"
        },
        "id": "xsl6mOC5cWYF",
        "outputId": "27aac322-bc47-452d-b26f-5aaeed6f8223"
      },
      "execution_count": 2,
      "outputs": [
        {
          "output_type": "stream",
          "name": "stdout",
          "text": [
            "\u001b[?25l   \u001b[90m━━━━━━━━━━━━━━━━━━━━━━━━━━━━━━━━━━━━━━━━\u001b[0m \u001b[32m0.0/69.0 kB\u001b[0m \u001b[31m?\u001b[0m eta \u001b[36m-:--:--\u001b[0m\r\u001b[2K   \u001b[90m━━━━━━━━━━━━━━━━━━━━━━━━━━━━━━━━━━━━━━━━\u001b[0m \u001b[32m69.0/69.0 kB\u001b[0m \u001b[31m2.4 MB/s\u001b[0m eta \u001b[36m0:00:00\u001b[0m\n",
            "\u001b[?25h"
          ]
        }
      ]
    },
    {
      "cell_type": "code",
      "source": [
        "# ====== 匯入模組 ======\n",
        "from langchain.agents import Tool, initialize_agent\n",
        "from langchain.agents.agent_types import AgentType\n",
        "from langchain_openai import ChatOpenAI\n",
        "from langchain.tools import tool\n",
        "import os"
      ],
      "metadata": {
        "id": "JvTmukRUcbQP"
      },
      "execution_count": 3,
      "outputs": []
    },
    {
      "cell_type": "code",
      "source": [
        "# ====== 設定 OpenRouter API Key 與 URL ======\n",
        "os.environ[\"OPENAI_API_KEY\"] = \"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\"\n",
        "os.environ[\"OPENAI_BASE_URL\"] = \"https://openrouter.ai/api/v1\"  # OpenRouter\n",
        "\n",
        "# ====== 建立 LangChain 的 LLM 客戶端 ======\n",
        "llm = ChatOpenAI(\n",
        "    model=\"deepseek/deepseek-chat-v3-0324:free\",\n",
        "    temperature=0.7,\n",
        ")\n",
        "\n",
        "# ====== 自訂工具定義 ======\n",
        "@tool\n",
        "def get_weather(location: str) -> str:\n",
        "    \"\"\"提供某地區的天氣資訊。\"\"\"\n",
        "    return f\"{location} 今天天氣晴，溫度約 25°C。\"\n",
        "\n",
        "@tool\n",
        "def get_time(location: str) -> str:\n",
        "    \"\"\"提供某地區的目前時間。\"\"\"\n",
        "    return f\"{location} 現在時間是下午 3:00。\"\n",
        "\n",
        "@tool\n",
        "def get_exchange_rate(currency: str) -> str:\n",
        "    \"\"\"提供指定貨幣對新台幣的匯率資訊。\"\"\"\n",
        "    currency = currency.upper()\n",
        "    if currency == \"USD\":\n",
        "        return \"1 USD = 31.25 TWD\"\n",
        "    elif currency == \"JPY\":\n",
        "        return \"1 JPY = 0.22 TWD\"\n",
        "    else:\n",
        "        return f\"{currency} 匯率資料暫無法提供\"\n",
        "\n",
        "# ====== 工具列表 ======\n",
        "tools = [get_weather, get_time, get_exchange_rate]"
      ],
      "metadata": {
        "id": "FW7pEa1YccsY"
      },
      "execution_count": 4,
      "outputs": []
    },
    {
      "cell_type": "code",
      "execution_count": 7,
      "metadata": {
        "colab": {
          "base_uri": "https://localhost:8080/"
        },
        "id": "UL-kVxcNPm5k",
        "outputId": "9f2ffba9-411c-4de5-b326-d3b303057e11"
      },
      "outputs": [
        {
          "output_type": "stream",
          "name": "stdout",
          "text": [
            "🤖 AI 助理啟動，可輸入 'exit' 離開對話。\n",
            "🧑 您：請問台北現在的天氣\n",
            "\n",
            "\n",
            "\u001b[1m> Entering new AgentExecutor chain...\u001b[0m\n",
            "\u001b[32;1m\u001b[1;3mThought: I need to find the current weather in Taipei.\n",
            "Action: get_weather\n",
            "Action Input: \"台北\"\u001b[0m\n",
            "Observation: \u001b[36;1m\u001b[1;3m台北 今天天氣晴，溫度約 25°C。\u001b[0m\n",
            "Thought:\u001b[32;1m\u001b[1;3mI now know the final answer.\n",
            "Final Answer: 台北今天天氣晴，溫度約 25°C。\u001b[0m\n",
            "\n",
            "\u001b[1m> Finished chain.\u001b[0m\n",
            "🤖 機器人：台北今天天氣晴，溫度約 25°C。\n",
            "🧑 您：現在幾點\n",
            "\n",
            "\n",
            "\u001b[1m> Entering new AgentExecutor chain...\u001b[0m\n",
            "\u001b[32;1m\u001b[1;3mThought: 需要知道使用者所在的地區才能提供準確的時間資訊，但問題中沒有提供具體地點。假設使用者想知道的是台北的時間。\n",
            "\n",
            "Action: get_time  \n",
            "Action Input: \"台北\"  \u001b[0m\n",
            "Observation: \u001b[33;1m\u001b[1;3m台北 現在時間是下午 3:00。\u001b[0m\n",
            "Thought:\u001b[32;1m\u001b[1;3mThought: 已經獲得了台北的當前時間資訊，可以回覆使用者。\n",
            "\n",
            "Final Answer: 台北現在的時間是下午 3:00。\u001b[0m\n",
            "\n",
            "\u001b[1m> Finished chain.\u001b[0m\n",
            "🤖 機器人：台北現在的時間是下午 3:00。\n",
            "🧑 您：請問目前新台幣匯率多少\n",
            "\n",
            "\n",
            "\u001b[1m> Entering new AgentExecutor chain...\u001b[0m\n",
            "\u001b[32;1m\u001b[1;3mThought: 我需要獲取新台幣的最新匯率資訊，但由於問題中沒有指定要查詢哪種貨幣對新台幣的匯率，我需要先釐清這一點。通常匯率是相對於某種貨幣的，例如美元對新台幣。但問題中沒有明確說明，所以可能需要進一步確認。\n",
            "\n",
            "不過，考慮到問題問的是「新台幣匯率」，可能是想問新台幣對美元的匯率，這是常見的匯率查詢。因此，我將假設問題是想知道美元對新台幣的匯率。\n",
            "\n",
            "Action: get_exchange_rate  \n",
            "Action Input: \"USD\"  \u001b[0m\n",
            "Observation: \u001b[38;5;200m\u001b[1;3m1 USD = 31.25 TWD\u001b[0m\n",
            "Thought:\u001b[32;1m\u001b[1;3mI now know the latest exchange rate of US Dollar to New Taiwan Dollar.  \n",
            "Final Answer: 目前新台幣對美元的匯率是1美元兌換31.25新台幣。\u001b[0m\n",
            "\n",
            "\u001b[1m> Finished chain.\u001b[0m\n",
            "🤖 機器人：目前新台幣對美元的匯率是1美元兌換31.25新台幣。\n",
            "🧑 您：結束\n",
            "\n",
            "\n",
            "\u001b[1m> Entering new AgentExecutor chain...\u001b[0m\n",
            "\u001b[32;1m\u001b[1;3mThe user has indicated that they want to end the conversation.\n",
            "\n",
            "Final Answer: 好的，如有需要隨時再詢問我！再見！\u001b[0m\n",
            "\n",
            "\u001b[1m> Finished chain.\u001b[0m\n",
            "🤖 機器人：好的，如有需要隨時再詢問我！再見！\n",
            "🧑 您：exit\n",
            "👋 已結束對話。\n"
          ]
        }
      ],
      "source": [
        "# ====== 初始化 Agent ======\n",
        "agent = initialize_agent(\n",
        "    tools=tools,\n",
        "    llm=llm,\n",
        "    agent=AgentType.ZERO_SHOT_REACT_DESCRIPTION,\n",
        "    verbose=True,\n",
        "    handle_parsing_errors=True\n",
        ")\n",
        "\n",
        "# ====== 互動式多輪對話 ======\n",
        "print(\"🤖 AI 助理啟動，可輸入 'exit' 離開對話。\")\n",
        "\n",
        "while True:\n",
        "    user_input = input(\"🧑 您：\")\n",
        "    if user_input.lower() in [\"exit\", \"quit\", \"離開\"]:\n",
        "        print(\"👋 已結束對話。\")\n",
        "        break\n",
        "    response = agent.run(user_input)\n",
        "    print(\"🤖 機器人：\" + response)"
      ]
    }
  ]
}